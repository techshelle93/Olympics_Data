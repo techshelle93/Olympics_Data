{
 "cells": [
  {
   "cell_type": "code",
   "execution_count": 212,
   "id": "450e59bc-4c9c-4e67-8a27-8803ebc7953a",
   "metadata": {
    "panel-layout": {
     "height": -0.015625,
     "visible": true,
     "width": 100
    }
   },
   "outputs": [
    {
     "name": "stdout",
     "output_type": "stream",
     "text": [
      "           Countries  Gold Medals  Silver Medals  Bronze Medals  Medal Count\n",
      "0   USAUnited States          4.0           44.0           42.0          126\n",
      "1           CHNChina          4.0           27.0           24.0           91\n",
      "2   GBRGreat Britain         14.0           22.0           29.0           65\n",
      "3          FRAFrance         16.0           26.0           22.0           64\n",
      "4       AUSAustralia         18.0           19.0           16.0           53\n",
      "..               ...          ...            ...            ...          ...\n",
      "90          QATQatar          NaN            NaN            1.0            1\n",
      "91           PERPeru          NaN            NaN            1.0            1\n",
      "92     CPVCape Verde          NaN            NaN            1.0            1\n",
      "93    CIVIvory Coast          NaN            NaN            1.0            1\n",
      "94       SVKSlovakia          NaN            NaN            1.0            1\n",
      "\n",
      "[95 rows x 5 columns]\n"
     ]
    }
   ],
   "source": [
    "#importing pandas\n",
    "import pandas as pd\n",
    "#importing CSV\n",
    "df = pd.read_csv('Summer_Olympics_2024.csv', index_col=None)\n",
    "#renaming columns\n",
    "df.rename(columns={'Country ':'Countries', 'Gold':'Gold Medals', 'Silver':'Silver Medals', 'Bronze':'Bronze Medals', 'Total Medals':'Medal Count'}, inplace=True)\n",
    "print(df)"
   ]
  },
  {
   "cell_type": "code",
   "execution_count": 216,
   "id": "8e4a0020-7e53-491f-b8a2-d34e1b3a51be",
   "metadata": {
    "panel-layout": {
     "height": -0.015625,
     "visible": true,
     "width": 100
    }
   },
   "outputs": [
    {
     "name": "stdout",
     "output_type": "stream",
     "text": [
      "           Countries  Bronze Medals\n",
      "0   USAUnited States           42.0\n",
      "1           CHNChina           24.0\n",
      "2   GBRGreat Britain           29.0\n",
      "3          FRAFrance           22.0\n",
      "4       AUSAustralia           16.0\n",
      "..               ...            ...\n",
      "90          QATQatar            1.0\n",
      "91           PERPeru            1.0\n",
      "92     CPVCape Verde            1.0\n",
      "93    CIVIvory Coast            1.0\n",
      "94       SVKSlovakia            1.0\n",
      "\n",
      "[95 rows x 2 columns]\n"
     ]
    }
   ],
   "source": [
    "#importing pandas\n",
    "import pandas as pd\n",
    "#importing CSV\n",
    "df = pd.read_csv('Summer_Olympics_2024.csv', index_col=None)\n",
    "#renaming columns\n",
    "df.rename(columns={'Country ':'Countries', 'Gold':'Gold Medals', 'Silver':'Silver Medals', 'Bronze':'Bronze Medals', 'Total Medals':'Medal Count'}, inplace=True)\n",
    "#countries with their bronze medal count\n",
    "df1 = df[['Countries', 'Bronze Medals']]\n",
    "print(df1)"
   ]
  },
  {
   "cell_type": "code",
   "execution_count": 248,
   "id": "06b7ad51-154d-4191-8b64-b63506159e83",
   "metadata": {
    "panel-layout": {
     "height": 2425.71875,
     "visible": true,
     "width": 100
    }
   },
   "outputs": [
    {
     "name": "stdout",
     "output_type": "stream",
     "text": [
      "           Countries  Gold Medals  Silver Medals  Bronze Medals  Medal Count\n",
      "0   USAUnited States          4.0           44.0           42.0          126\n",
      "1           CHNChina          4.0           27.0           24.0           91\n",
      "2   GBRGreat Britain         14.0           22.0           29.0           65\n",
      "3          FRAFrance         16.0           26.0           22.0           64\n",
      "4       AUSAustralia         18.0           19.0           16.0           53\n",
      "..               ...          ...            ...            ...          ...\n",
      "90          QATQatar          NaN            NaN            1.0            1\n",
      "91           PERPeru          NaN            NaN            1.0            1\n",
      "92     CPVCape Verde          NaN            NaN            1.0            1\n",
      "93    CIVIvory Coast          NaN            NaN            1.0            1\n",
      "94       SVKSlovakia          NaN            NaN            1.0            1\n",
      "\n",
      "[95 rows x 5 columns]\n"
     ]
    }
   ],
   "source": [
    "#importing pandas\n",
    "import pandas as pd\n",
    "#importing CSV\n",
    "df = pd.read_csv('Summer_Olympics_2024.csv', index_col=None)\n",
    "#renaming columns\n",
    "df.rename(columns={'Country ':'Countries', 'Gold':'Gold Medals', 'Silver':'Silver Medals', 'Bronze':'Bronze Medals', 'Total Medals':'Medal Count'}, inplace=True)\n",
    "#finding if there is duplicated rows\n",
    "df.duplicated().any()\n",
    "#finding duplicates\n",
    "df.duplicated()\n",
    "#finding duplicate countries data\n",
    "df[df['Countries'].duplicated()==1]\n",
    "#dropping duplicate countries data\n",
    "df.drop_duplicates()\n",
    "\n",
    "\n",
    "\n",
    "\n",
    "\n",
    "\n"
   ]
  },
  {
   "cell_type": "code",
   "execution_count": null,
   "id": "ea81695e-9cb0-45ad-bc64-6e4fcdfdf492",
   "metadata": {},
   "outputs": [],
   "source": []
  },
  {
   "cell_type": "code",
   "execution_count": null,
   "id": "6bc4967c-8a6a-4213-ae60-f3e248ed1af1",
   "metadata": {},
   "outputs": [],
   "source": []
  },
  {
   "cell_type": "code",
   "execution_count": null,
   "id": "274e8656-61dc-4d1c-87bc-5fb2a50603ff",
   "metadata": {},
   "outputs": [],
   "source": []
  }
 ],
 "metadata": {
  "kernelspec": {
   "display_name": "Python [conda env:anaconda3] *",
   "language": "python",
   "name": "conda-env-anaconda3-py"
  },
  "language_info": {
   "codemirror_mode": {
    "name": "ipython",
    "version": 3
   },
   "file_extension": ".py",
   "mimetype": "text/x-python",
   "name": "python",
   "nbconvert_exporter": "python",
   "pygments_lexer": "ipython3",
   "version": "3.12.7"
  },
  "panel-cell-order": [
   "450e59bc-4c9c-4e67-8a27-8803ebc7953a",
   "8e4a0020-7e53-491f-b8a2-d34e1b3a51be",
   "06b7ad51-154d-4191-8b64-b63506159e83"
  ]
 },
 "nbformat": 4,
 "nbformat_minor": 5
}
